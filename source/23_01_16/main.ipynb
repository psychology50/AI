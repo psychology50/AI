{
 "cells": [
  {
   "cell_type": "code",
   "execution_count": null,
   "metadata": {},
   "outputs": [],
   "source": [
    "# 파일 선택을 통해 예제 데이터를 내 컴퓨터에서 불러옵니다.\n",
    "from google.colab import files\n",
    "uploaded = files.upload()\n",
    "my_data = 'ThoraricSurgery.csv'\n",
    "\n",
    "# 딥러닝을 구동하는 데 필요한 케라스 함수를 불러옵니다.\n",
    "from tensorflow.keras.models import Sequential\n",
    "from tensorflow.keras.layers import Dense\n",
    "\n",
    "# 필요한 라이브러리를 불러옵니다.\n",
    "import numpy as np\n",
    "import tensorflow as tf\n",
    "\n",
    "# 실행할 때마다 같은 결과를 출력하기 위해 설정하는 부분입니다.\n",
    "np.random.seed(3)\n",
    "tf.random.set_seed(3)\n",
    "\n",
    "# 불러온 데이터를 적용합니다.\n",
    "Data_set = np.loadtxt(my_data, delimiter=\",\")\n",
    "\n",
    "# 환자의 기록과 수술 결과를 X와 Y로 구분하여 저장합니다.\n",
    "X = Data_set[:,0:17]\n",
    "Y = Data_set[:,17]\n",
    "\n",
    "# 딥러닝 구조를 결정합니다(모델을 설정하고 실행하는 부분입니다).\n",
    "model = Sequential()\n",
    "model.add(Dense(30, input_dim=17, activation='relu'))\n",
    "model.add(Dense(1, activation='sigmoid'))\n",
    "\n",
    "# 딥러닝을 실행합니다.\n",
    "model.compile(loss='binary_crossentropy', optimizer='adam')\n",
    "model.fit(X, Y, epochs=100, batch_size=10)\n"
   ]
  },
  {
   "attachments": {},
   "cell_type": "markdown",
   "metadata": {},
   "source": [
    "# 실습"
   ]
  },
  {
   "cell_type": "code",
   "execution_count": null,
   "metadata": {},
   "outputs": [],
   "source": [
    "from google.colab import files\n",
    "uploaded = files.upload()\n",
    "my_data = 'ThoraricSurgery.csv'\n",
    "\n",
    "from tensorflow.keras.models import Sequential\n",
    "from tensorflow.keras.layers import Dense\n",
    "\n",
    "import numpy as np\n",
    "import tensorflow as tf\n",
    "\n",
    "np.random.seed(3)\n",
    "tf.random.set_seed(3)\n",
    "\n",
    "Data_set = np.loadtxt(my_data, delimiter=\",\")\n",
    "\n",
    "X = Data_set[:, 0:17] # 속성\n",
    "Y = Data_set[:, 17]   # 값\n",
    "\n",
    "model = Sequential() \n",
    "model.add(Dense(30, input_dim=17, activation='relu')) # 30개의 뉴런 분리(출력 뉴런), input 노드 17개(입력 뉴런), 다음 층으로 넘길 방식 relu()\n",
    "model.add(Dense(1, activation='sigmoid')) # 30개의 노드를 1개로 병합 (자동 판단), 다음층으로 넘길 방식 sigmond()\n",
    "\n",
    "model.compile(loss='mean_squared_error', optimizer='adam', metrics=[\"accuracy\"]) # 컴파일 형식 지정(오차추적 loss: 평균제곱연산, 오차줄이기-최적화 optimizeradam 형식 최적화)\n",
    "model.fit(X, Y, epochs=100, batch_size=10) \n",
    "# ephocs 전체 데이터에 5번 실행, 임의로 정한 가중치 수정 5번 수행, 역전파 5번 수행\n",
    "# batch_size vs input_size\n"
   ]
  },
  {
   "attachments": {},
   "cell_type": "markdown",
   "metadata": {},
   "source": [
    "# Least_Square_Method"
   ]
  },
  {
   "cell_type": "code",
   "execution_count": null,
   "metadata": {},
   "outputs": [],
   "source": [
    "import numpy as np\n",
    "\n",
    "x=[2, 4, 6, 8]\n",
    "y=[81, 93, 91, 97]\n",
    "\n",
    "# 최소 제곱법(Least Squares) : 예측 직선(추세선)\n",
    "\n",
    "# mean : 평균\n",
    "mx = np.mean(x)\n",
    "my = np.mean(y)\n",
    "print(\"x 평균값 = \", mx)\n",
    "print(\"y 평균값 = \", my)\n",
    "\n",
    "# 기울기 공식 분모 : ∑(x - x평균)²-> x편차 제곱의 합\n",
    "divisor = sum([(mx - i)**2 for i in x])\n",
    "\n",
    "# 기울기 공식 분자 : ∑{(x - x평균)²(y - y평균)²}\n",
    "def top(x, mx, y, my):\n",
    "  d = 0\n",
    "  for i in range(len(x)):\n",
    "    d += (x[i] - mx) * (y[i] - my)\n",
    "  return d\n",
    "dividend = top(x, mx, y, my)\n",
    "\n",
    "print(\"분모 : \", divisor)\n",
    "print(\"분자 : \", dividend)\n",
    "\n",
    "a = dividend / divisor # 기울기\n",
    "b = my - (mx*a) # y 절편 : b = y평균 - (x평균 X 기울기a)\n",
    "\n",
    "print(\"기울기 a = \", a)\n",
    "print(\"y 절편 b = \", b)\n"
   ]
  }
 ],
 "metadata": {
  "language_info": {
   "name": "python"
  },
  "orig_nbformat": 4
 },
 "nbformat": 4,
 "nbformat_minor": 2
}
