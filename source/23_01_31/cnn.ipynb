{
 "cells": [
  {
   "attachments": {},
   "cell_type": "markdown",
   "metadata": {},
   "source": [
    "# 합성곱 신경망 (CNN) : 이미지를 위한 인공신경망"
   ]
  },
  {
   "attachments": {},
   "cell_type": "markdown",
   "metadata": {},
   "source": [
    "- 데이터 준비"
   ]
  },
  {
   "cell_type": "code",
   "execution_count": 17,
   "metadata": {},
   "outputs": [],
   "source": [
    "from tensorflow import keras\n",
    "from sklearn.model_selection import train_test_split\n",
    "import matplotlib.pyplot as plt\n",
    "\n",
    "(train_input, train_target), (test_input, test_target) = keras.datasets.fashion_mnist.load_data()\n",
    "train_scaled = train_input.reshape(-1, 28, 28, 1) / 255.0  # 케라스 합성곱 층은 3차원 입력 (너비 28, 높이 28, 깊이 1)\n",
    "train_scaled, val_scaled, train_target, val_target = train_test_split(train_scaled, train_target, test_size=0.2, random_state=42)\n"
   ]
  },
  {
   "attachments": {},
   "cell_type": "markdown",
   "metadata": {},
   "source": [
    "- 레이어 만들기"
   ]
  },
  {
   "cell_type": "code",
   "execution_count": 18,
   "metadata": {},
   "outputs": [
    {
     "name": "stdout",
     "output_type": "stream",
     "text": [
      "Model: \"sequential_1\"\n",
      "_________________________________________________________________\n",
      " Layer (type)                Output Shape              Param #   \n",
      "=================================================================\n",
      " first_conv2D (Conv2D)       (None, 28, 28, 32)        320       \n",
      "                                                                 \n",
      " first_max_pooling (MaxPooli  (None, 14, 14, 32)       0         \n",
      " ng2D)                                                           \n",
      "                                                                 \n",
      " second_conv2D (Conv2D)      (None, 14, 14, 64)        18496     \n",
      "                                                                 \n",
      " second_max_pooling (MaxPool  (None, 7, 7, 64)         0         \n",
      " ing2D)                                                          \n",
      "                                                                 \n",
      " flatten_1 (Flatten)         (None, 3136)              0         \n",
      "                                                                 \n",
      " hidden (Dense)              (None, 100)               313700    \n",
      "                                                                 \n",
      " dropout_1 (Dropout)         (None, 100)               0         \n",
      "                                                                 \n",
      " output (Dense)              (None, 10)                1010      \n",
      "                                                                 \n",
      "=================================================================\n",
      "Total params: 333,526\n",
      "Trainable params: 333,526\n",
      "Non-trainable params: 0\n",
      "_________________________________________________________________\n"
     ]
    }
   ],
   "source": [
    "# 첫 번째 합성곱 층\n",
    "model = keras.Sequential()\n",
    "model.add(keras.layers.Conv2D(32, kernel_size=3, activation='relu', # kerner_size=3 : 3 x 3 x 1 필터 생성 (깊이는 자동으로 결정) # kernel_size = (3,3) -> 가능\n",
    "          padding='same', input_shape=(28,28,1), name='first_conv2D'))   \n",
    "model.add(keras.layers.MaxPooling2D(2, name='first_max_pooling')) # (2,2) max pooling -> 4칸 중에 가장 임팩트 있는 값을 꺼낸다. (과대적합 회피)\n",
    "\n",
    "# 두 번째 합성곱 층\n",
    "model.add(keras.layers.Conv2D(64, kernel_size=(3,3), activation='relu', # 3 x 3 x 32 필터 생성 (깊이는 자동으로 결정)\n",
    "          padding='same', name='second_conv2D'))   # kernel_size = (3,3) -> 가능\n",
    "model.add(keras.layers.MaxPooling2D(2, name='second_max_pooling'))\n",
    "# convolution과 maxPooling을 언제, 몇 번 할지는 시행착오법으로 결정해야 한다.\n",
    "\n",
    "# 완전 연결층 (출력층)\n",
    "model.add(keras.layers.Flatten())\n",
    "model.add(keras.layers.Dense(100, activation='relu', name='hidden'))\n",
    "model.add(keras.layers.Dropout(0.4))\n",
    "model.add(keras.layers.Dense(10, activation='softmax', name='output'))\n",
    "\n",
    "model.summary()\n",
    "\n",
    "# ====================================================================================== #\n",
    "# Layer                | OutputStream       | Param\n",
    "# first_conv2D         | (None, 28, 28, 32) | (3x3x1 + 1) x 32 -> weigh(9*32) + bias(32)\n",
    "# first_max_pooling    | (None, 14, 14, 32) | 0\n",
    "# second_conv2D        | (None, 14, 14, 64) | (3x3x32 + 1) x 64 = 18,496\n",
    "# second_max_pooling   | (None,  7,  7, 64) | 0\n",
    "# Flatten              | (None, 3136)       | 0\n",
    "# hidden               | (None, 100)        | 3136(=7*7*64) x 100 + 100(=bias) = 313,700\n",
    "# Dropout              | (None, 100)        | 0\n",
    "# output               | (None, 10)         | 1000 + 10 = 1,010\n",
    "# ====================================================================================== #"
   ]
  },
  {
   "cell_type": "code",
   "execution_count": 19,
   "metadata": {},
   "outputs": [
    {
     "name": "stdout",
     "output_type": "stream",
     "text": [
      "You must install pydot (`pip install pydot`) and install graphviz (see instructions at https://graphviz.gitlab.io/download/) for plot_model to work.\n",
      "You must install pydot (`pip install pydot`) and install graphviz (see instructions at https://graphviz.gitlab.io/download/) for plot_model to work.\n"
     ]
    }
   ],
   "source": [
    "keras.utils.plot_model(model)\n",
    "keras.utils.plot_model(model, show_shapes=True, to_file='cnn-architecture.png', dpi=300)"
   ]
  },
  {
   "attachments": {},
   "cell_type": "markdown",
   "metadata": {},
   "source": [
    "- 컴파일 & 학습"
   ]
  },
  {
   "cell_type": "code",
   "execution_count": 20,
   "metadata": {},
   "outputs": [
    {
     "name": "stdout",
     "output_type": "stream",
     "text": [
      "Epoch 1/20\n",
      "1500/1500 [==============================] - 22s 14ms/step - loss: 0.5111 - accuracy: 0.8169 - val_loss: 0.3264 - val_accuracy: 0.8790\n",
      "Epoch 2/20\n",
      "1500/1500 [==============================] - 22s 15ms/step - loss: 0.3340 - accuracy: 0.8797 - val_loss: 0.2649 - val_accuracy: 0.9016\n",
      "Epoch 3/20\n",
      "1500/1500 [==============================] - 23s 16ms/step - loss: 0.2834 - accuracy: 0.8971 - val_loss: 0.2489 - val_accuracy: 0.9082\n",
      "Epoch 4/20\n",
      "1500/1500 [==============================] - 22s 15ms/step - loss: 0.2531 - accuracy: 0.9066 - val_loss: 0.2324 - val_accuracy: 0.9114\n",
      "Epoch 5/20\n",
      "1500/1500 [==============================] - 23s 15ms/step - loss: 0.2292 - accuracy: 0.9157 - val_loss: 0.2278 - val_accuracy: 0.9160\n",
      "Epoch 6/20\n",
      "1500/1500 [==============================] - 23s 15ms/step - loss: 0.2087 - accuracy: 0.9233 - val_loss: 0.2358 - val_accuracy: 0.9115\n",
      "Epoch 7/20\n",
      "1500/1500 [==============================] - 23s 15ms/step - loss: 0.1922 - accuracy: 0.9279 - val_loss: 0.2202 - val_accuracy: 0.9201\n",
      "Epoch 8/20\n",
      "1500/1500 [==============================] - 23s 15ms/step - loss: 0.1770 - accuracy: 0.9337 - val_loss: 0.2230 - val_accuracy: 0.9168\n",
      "Epoch 9/20\n",
      "1500/1500 [==============================] - 23s 15ms/step - loss: 0.1620 - accuracy: 0.9379 - val_loss: 0.2388 - val_accuracy: 0.9198\n"
     ]
    }
   ],
   "source": [
    "model.compile(optimizer='adam', loss='sparse_categorical_crossentropy', metrics='accuracy')\n",
    "checkpoint_cb = keras.callbacks.ModelCheckpoint('best-cnn-model.h5', save_best_only=True)\n",
    "early_stopping_cb = keras.callbacks.EarlyStopping(patience=2, restore_best_weights=True)\n",
    "\n",
    "history = model.fit(train_scaled, train_target, epochs=20,\n",
    "                    validation_data=(val_scaled, val_target),\n",
    "                    callbacks=[checkpoint_cb, early_stopping_cb])"
   ]
  },
  {
   "attachments": {},
   "cell_type": "markdown",
   "metadata": {},
   "source": [
    "- 결과 확인"
   ]
  },
  {
   "cell_type": "code",
   "execution_count": 21,
   "metadata": {},
   "outputs": [
    {
     "data": {
      "image/png": "[encoded data removed]",
      "text/plain": [
       "<Figure size 640x480 with 1 Axes>"
      ]
     },
     "metadata": {},
     "output_type": "display_data"
    }
   ],
   "source": [
    "plt.plot(history.history['loss'])\n",
    "plt.plot(history.history['val_loss'])\n",
    "plt.xlabel('epoch')\n",
    "plt.ylabel('loss')\n",
    "plt.legend(['train', 'val'])\n",
    "plt.show()"
   ]
  },
  {
   "cell_type": "code",
   "execution_count": 22,
   "metadata": {},
   "outputs": [
    {
     "name": "stdout",
     "output_type": "stream",
     "text": [
      "375/375 [==============================] - 2s 5ms/step - loss: 0.2202 - accuracy: 0.9201\n"
     ]
    },
    {
     "data": {
      "text/plain": [
       "[0.2201681286096573, 0.9200833439826965]"
      ]
     },
     "execution_count": 22,
     "metadata": {},
     "output_type": "execute_result"
    }
   ],
   "source": [
    "model.evaluate(val_scaled, val_target) # [0.2145286500453949, 0.9247499704360962]"
   ]
  },
  {
   "cell_type": "code",
   "execution_count": 23,
   "metadata": {},
   "outputs": [
    {
     "name": "stdout",
     "output_type": "stream",
     "text": [
      "313/313 [==============================] - 2s 5ms/step - loss: 0.2366 - accuracy: 0.9161\n"
     ]
    },
    {
     "data": {
      "text/plain": [
       "[0.23656366765499115, 0.916100025177002]"
      ]
     },
     "execution_count": 23,
     "metadata": {},
     "output_type": "execute_result"
    }
   ],
   "source": [
    "test_scaled = test_input.reshape(-1, 28, 28, 1) / 255.0\n",
    "model.evaluate(test_scaled, test_target) # [0.2353357970714569, 0.9190999865531921]"
   ]
  },
  {
   "attachments": {},
   "cell_type": "markdown",
   "metadata": {},
   "source": [
    "# 합성곱 신경망의 시각화 - 가중치 시각화"
   ]
  },
  {
   "cell_type": "code",
   "execution_count": 24,
   "metadata": {},
   "outputs": [
    {
     "name": "stdout",
     "output_type": "stream",
     "text": [
      "[<keras.layers.convolutional.conv2d.Conv2D object at 0x0000022319C289A0>, <keras.layers.pooling.max_pooling2d.MaxPooling2D object at 0x0000022319C290C0>, <keras.layers.convolutional.conv2d.Conv2D object at 0x00000223176C63E0>, <keras.layers.pooling.max_pooling2d.MaxPooling2D object at 0x0000022319C2ACB0>, <keras.layers.reshaping.flatten.Flatten object at 0x00000223176C6C50>, <keras.layers.core.dense.Dense object at 0x00000223176C4820>, <keras.layers.regularization.dropout.Dropout object at 0x00000223176C7F10>, <keras.layers.core.dense.Dense object at 0x00000223176C7A90>]\n"
     ]
    }
   ],
   "source": [
    "model = keras.models.load_model(\"best-cnn-model.h5\")\n",
    "print(model.layers)"
   ]
  },
  {
   "cell_type": "code",
   "execution_count": 25,
   "metadata": {},
   "outputs": [
    {
     "name": "stdout",
     "output_type": "stream",
     "text": [
      "(3, 3, 1, 32) (32,)\n",
      "-0.015258746 0.23379572\n"
     ]
    }
   ],
   "source": [
    "conv = model.layers[0]\n",
    "print(conv.weights[0].shape, conv.weights[1].shape) # (3, 3, 1, 32) (32,)\n",
    "\n",
    "conv_weights = conv.weights[0].numpy()\n",
    "print(conv_weights.mean(), conv_weights.std()) # -0.029786753 0.2856585"
   ]
  },
  {
   "cell_type": "code",
   "execution_count": 26,
   "metadata": {},
   "outputs": [
    {
     "data": {
      "image/png": "[encoded data removed]",
      "text/plain": [
       "<Figure size 640x480 with 1 Axes>"
      ]
     },
     "metadata": {},
     "output_type": "display_data"
    }
   ],
   "source": [
    "plt.hist(conv_weights.reshape(-1, 1))\n",
    "plt.xlabel('weight')\n",
    "plt.ylabel('count')\n",
    "plt.show()"
   ]
  },
  {
   "cell_type": "code",
   "execution_count": 27,
   "metadata": {},
   "outputs": [
    {
     "data": {
      "image/png": "[encoded data removed]",
      "text/plain": [
       "<Figure size 1500x200 with 32 Axes>"
      ]
     },
     "metadata": {},
     "output_type": "display_data"
    }
   ],
   "source": [
    "fig, axs = plt.subplots(2, 16, figsize=(15,2))\n",
    "\n",
    "for i in range(2):\n",
    "    for j in range(16):\n",
    "        axs[i, j].imshow(conv_weights[:, :, 0, i*16 + j], vmin=-0.5, vmax=0.5)\n",
    "        axs[i, j].axis('off')\n",
    "\n",
    "plt.show()"
   ]
  },
  {
   "cell_type": "markdown",
   "metadata": {},
   "source": [
    "-  학습되지 않은 필터와 비교 해보기"
   ]
  },
  {
   "cell_type": "code",
   "execution_count": null,
   "metadata": {},
   "outputs": [],
   "source": [
    "no_training_model = keras.Sequential()\n",
    "no_training_model.add(keras.layers.Conv2D(32, kernel_size=3, activation='relu',\n",
    "                                          padding='same', input_shape=(28,28,1)))\n",
    "no_training_conv = no_training_model.layers[0]\n",
    "print(no_training_conv.weights[0].shpae)\n",
    "\n",
    "no_training_weights = no_training_conv.weights[0].numpy()\n",
    "print(no_training_weights.mean(), no_training_weights.std())\n",
    "\n",
    "plt.hist(no_training_weights.reshape(-1, 1))\n",
    "plt.xlabel('weight')\n",
    "plt.ylabel('count')\n",
    "plt.show()\n",
    "\n",
    "fig, axs = plt.subplots(2, 16, figsize=(15,2))\n",
    "\n",
    "for i in range(2):\n",
    "    for j in range(16):\n",
    "        axs[i, j].imshow(no_training_weights[:, :, 0, i*16 + j], vmin=-0.5, vmax=0.5)\n",
    "        axs[i, j].axis('off')\n",
    "\n",
    "plt.show()"
   ]
  }
 ],
 "metadata": {
  "kernelspec": {
   "display_name": "Python 3",
   "language": "python",
   "name": "python3"
  },
  "language_info": {
   "codemirror_mode": {
    "name": "ipython",
    "version": 3
   },
   "file_extension": ".py",
   "mimetype": "text/x-python",
   "name": "python",
   "nbconvert_exporter": "python",
   "pygments_lexer": "ipython3",
   "version": "3.10.4"
  },
  "orig_nbformat": 4,
  "vscode": {
   "interpreter": {
    "hash": "369f2c481f4da34e4445cda3fffd2e751bd1c4d706f27375911949ba6bb62e1c"
   }
  }
 },
 "nbformat": 4,
 "nbformat_minor": 2
}
