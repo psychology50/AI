{
 "cells": [
  {
   "attachments": {},
   "cell_type": "markdown",
   "metadata": {},
   "source": [
    "# 순환신경망 (Recurrent Neural Network, RNN)"
   ]
  },
  {
   "cell_type": "code",
   "execution_count": 50,
   "metadata": {},
   "outputs": [],
   "source": [
    "from tensorflow.keras.datasets import imdb\n",
    "from tensorflow import keras\n",
    "from sklearn.model_selection import train_test_split"
   ]
  },
  {
   "attachments": {},
   "cell_type": "markdown",
   "metadata": {},
   "source": [
    "- 데이터 준비"
   ]
  },
  {
   "cell_type": "code",
   "execution_count": 51,
   "metadata": {},
   "outputs": [
    {
     "name": "stdout",
     "output_type": "stream",
     "text": [
      "(25000,) (25000,)\n",
      "218\n",
      "189\n",
      "[0 1 1 ... 0 0 0]\n"
     ]
    }
   ],
   "source": [
    "(train_input, train_target), (test_input, test_target) = imdb.load_data(num_words=500)\n",
    "\n",
    "print(train_input.shape, test_input.shape) # (25000,) (25000,)\n",
    "print(len(train_input[0])) # 첫 번째 리뷰 218\n",
    "print(len(train_input[1])) # 두 번째 리뷰 189\n",
    "print(test_target)"
   ]
  },
  {
   "attachments": {},
   "cell_type": "markdown",
   "metadata": {},
   "source": [
    "- 참고: 리뷰 원본 데이터 복원"
   ]
  },
  {
   "cell_type": "code",
   "execution_count": 52,
   "metadata": {},
   "outputs": [
    {
     "name": "stdout",
     "output_type": "stream",
     "text": [
      "<sos> this film was just <unk> <unk> <unk> <unk> story direction <unk> really <unk> the part they played and you could just <unk> being there <unk> <unk> is an amazing actor and now the same being director <unk> father came from the same <unk> <unk> as <unk> so i loved the fact there was a real <unk> with this film the <unk> <unk> throughout the film were great it was just <unk> so much that i <unk> the film as <unk> as it was <unk> for <unk> and would recommend it to everyone to watch and the <unk> <unk> was amazing really <unk> at the end it was so <unk> and you know what they say if you <unk> at a film it must have been good and this definitely was also <unk> to the two little <unk> that played the <unk> of <unk> and <unk> they were just <unk> children are often left out of the <unk> <unk> i think because the stars that play them all <unk> up are such a big <unk> for the whole film but these children are amazing and should be <unk> for what they have done don't you think the whole story was so <unk> because it was true and was <unk> life after all that was <unk> with us all\n"
     ]
    }
   ],
   "source": [
    "word_to_idx = imdb.get_word_index()\n",
    "idx_to_word = {}\n",
    "\n",
    "for key, value in word_to_idx.items():\n",
    "    idx_to_word[value+3] = key\n",
    "\n",
    "for idx, token in enumerate((\"<pad>\", \"<sos>\", \"<unk>\")):\n",
    "    idx_to_word[idx] = token\n",
    "\n",
    "print(' '.join([idx_to_word[idx] for idx in train_input[0]]))"
   ]
  },
  {
   "attachments": {},
   "cell_type": "markdown",
   "metadata": {},
   "source": [
    "- 데이터 전처리 : 리뷰 길이를 100단어로 맞추기"
   ]
  },
  {
   "cell_type": "code",
   "execution_count": 53,
   "metadata": {},
   "outputs": [
    {
     "name": "stdout",
     "output_type": "stream",
     "text": [
      "[1, 14, 22, 16, 43, 2, 2, 2, 2, 65, 458, 2, 66, 2, 4, 173, 36, 256, 5, 25, 100, 43, 2, 112, 50, 2, 2, 9, 35, 480, 284, 5, 150, 4, 172, 112, 167, 2, 336, 385, 39, 4, 172, 2, 2, 17, 2, 38, 13, 447, 4, 192, 50, 16, 6, 147, 2, 19, 14, 22, 4, 2, 2, 469, 4, 22, 71, 87, 12, 16, 43, 2, 38, 76, 15, 13, 2, 4, 22, 17, 2, 17, 12, 16, 2, 18, 2, 5, 62, 386, 12, 8, 316, 8, 106, 5, 4, 2, 2, 16, 480, 66, 2, 33, 4, 130, 12, 16, 38, 2, 5, 25, 124, 51, 36, 135, 48, 25, 2, 33, 6, 22, 12, 215, 28, 77, 52, 5, 14, 407, 16, 82, 2, 8, 4, 107, 117, 2, 15, 256, 4, 2, 7, 2, 5, 2, 36, 71, 43, 2, 476, 26, 400, 317, 46, 7, 4, 2, 2, 13, 104, 88, 4, 381, 15, 297, 98, 32, 2, 56, 26, 141, 6, 194, 2, 18, 4, 226, 22, 21, 134, 476, 26, 480, 5, 144, 30, 2, 18, 51, 36, 28, 224, 92, 25, 104, 4, 226, 65, 16, 38, 2, 88, 12, 16, 283, 5, 16, 2, 113, 103, 32, 15, 16, 2, 19, 178, 32]\n",
      "[1 0 0 1 0 0 1 0 1 0 1 0 0 0 0 0 1 1 0 1]\n"
     ]
    }
   ],
   "source": [
    "# 첫 번째 리뷰 데이터\n",
    "print(train_input[0])\n",
    "\n",
    "# target 확인\n",
    "print(train_target[:20]) # 긍정 or 부정: binary 분류\n",
    "\n",
    "# 학습, 검증 데이터 분리\n",
    "train_input, val_input, train_target, val_target = train_test_split(train_input, train_target, test_size=0.2, random_state=42)"
   ]
  },
  {
   "cell_type": "code",
   "execution_count": 54,
   "metadata": {},
   "outputs": [
    {
     "name": "stdout",
     "output_type": "stream",
     "text": [
      "239.00925 178.0\n"
     ]
    }
   ],
   "source": [
    "import numpy as np\n",
    "\n",
    "lengths = np.array([len(x) for x in train_input])\n",
    "print(np.mean(lengths), np.median(lengths)) # 239.00925 178.0"
   ]
  },
  {
   "cell_type": "code",
   "execution_count": 55,
   "metadata": {},
   "outputs": [
    {
     "data": {
      "image/png": "[encoded data removed]",
      "text/plain": [
       "<Figure size 640x480 with 1 Axes>"
      ]
     },
     "metadata": {},
     "output_type": "display_data"
    }
   ],
   "source": [
    "import matplotlib.pyplot as plt\n",
    "\n",
    "plt.hist(lengths)\n",
    "plt.xlabel(\"length\")\n",
    "plt.ylabel(\"frequency\")\n",
    "plt.show() # 리뷰 길이가 제각각 -> 100단어로 맞추자."
   ]
  },
  {
   "attachments": {},
   "cell_type": "markdown",
   "metadata": {},
   "source": [
    "- 시퀀스 패딩 (데이터 전처리)"
   ]
  },
  {
   "cell_type": "code",
   "execution_count": 56,
   "metadata": {},
   "outputs": [
    {
     "name": "stdout",
     "output_type": "stream",
     "text": [
      "(20000, 100)\n",
      "[ 10   4  20   9   2 364 352   5  45   6   2   2  33 269   8   2 142   2\n",
      "   5   2  17  73  17 204   5   2  19  55   2   2  92  66 104  14  20  93\n",
      "  76   2 151  33   4  58  12 188   2 151  12 215  69 224 142  73 237   6\n",
      "   2   7   2   2 188   2 103  14  31  10  10 451   7   2   5   2  80  91\n",
      "   2  30   2  34  14  20 151  50  26 131  49   2  84  46  50  37  80  79\n",
      "   6   2  46   7  14  20  10  10 470 158]\n",
      "[  0   0   0   0   1   2 195  19  49   2   2 190   4   2 352   2 183  10\n",
      "  10  13  82  79   4   2  36  71 269   8   2  25  19  49   7   4   2   2\n",
      "   2   2   2  10  10  48  25  40   2  11   2   2  40   2   2   5   4   2\n",
      "   2  95  14 238  56 129   2  10  10  21   2  94 364 352   2   2  11 190\n",
      "  24 484   2   7  94 205 405  10  10  87   2  34  49   2   7   2   2   2\n",
      "   2   2 290   2  46  48  64  18   4   2]\n",
      "[6, 2, 46, 7, 14, 20, 10, 10, 470, 158]\n"
     ]
    }
   ],
   "source": [
    "from tensorflow.keras.preprocessing.sequence import pad_sequences\n",
    "\n",
    "train_seq = pad_sequences(train_input, maxlen=100) # maxlen보다 긴 시퀀스의 앞부분을 잘라냄. 뒷부분을 잘라내고 싶으면 truncating=post로 지정\n",
    "print(train_seq.shape) # (20000, 100)\n",
    "\n",
    "print(train_seq[0]) # 100 토큰(단어)보다 긴 리뷰: 토큰 삭제\n",
    "print(train_seq[5]) # 100 토큰(단어)보다 짧은 리뷰: zero padding\n",
    "print(train_input[0][-10:])\n",
    "\n",
    "val_seq = pad_sequences(val_input, maxlen=100)"
   ]
  },
  {
   "attachments": {},
   "cell_type": "markdown",
   "metadata": {},
   "source": [
    "- RNN Model"
   ]
  },
  {
   "cell_type": "code",
   "execution_count": 57,
   "metadata": {},
   "outputs": [
    {
     "name": "stdout",
     "output_type": "stream",
     "text": [
      "[ 10   4  20   9   2 364 352   5  45   6   2   2  33 269   8   2 142   2\n",
      "   5   2  17  73  17 204   5   2  19  55   2   2  92  66 104  14  20  93\n",
      "  76   2 151  33   4  58  12 188   2 151  12 215  69 224 142  73 237   6\n",
      "   2   7   2   2 188   2 103  14  31  10  10 451   7   2   5   2  80  91\n",
      "   2  30   2  34  14  20 151  50  26 131  49   2  84  46  50  37  80  79\n",
      "   6   2  46   7  14  20  10  10 470 158]\n",
      "(20000, 100, 500)\n",
      "[0. 0. 0. 0. 0. 0. 0. 0. 0. 0. 1. 0.]\n",
      "1.0\n"
     ]
    }
   ],
   "source": [
    "model = keras.Sequential()\n",
    "\n",
    "model.add(keras.layers.SimpleRNN(8, input_shape=(100, 500))) # Param 500(원핫인코딩으로 인해 100개 단어 -> 500개 어휘사전)*8(뉴런) + 8(순환층)*8 + 8(절편)\n",
    "model.add(keras.layers.Dense(1, activation='sigmoid'))\n",
    "\n",
    "# one-hot encoding\n",
    "# why? 어휘 사전에 단어별로 할당된 숫자는 긍정, 부정 데이터와 별다른 의미이지만 그대로 두면 가중치 계산 시에 결과에 영향을 미친다.\n",
    "print(train_seq[0])\n",
    "train_oh = keras.utils.to_categorical(train_seq) # one-hot encoding으로 바꿔준다.\n",
    "print(train_oh.shape) # (20000, 100, 500)\n",
    "print(train_oh[0][0][:12])\n",
    "\n",
    "print(np.sum(train_oh[0][0])) # 전체 비트 중에 1은 하나만 존재한다.\n",
    "\n",
    "val_oh = keras.utils.to_categorical(val_seq) # 검증 데이터 세트도 one-hot encoding"
   ]
  },
  {
   "cell_type": "code",
   "execution_count": 58,
   "metadata": {},
   "outputs": [
    {
     "name": "stdout",
     "output_type": "stream",
     "text": [
      "Model: \"sequential_11\"\n",
      "_________________________________________________________________\n",
      " Layer (type)                Output Shape              Param #   \n",
      "=================================================================\n",
      " simple_rnn_9 (SimpleRNN)    (None, 8)                 4072      \n",
      "                                                                 \n",
      " dense_10 (Dense)            (None, 1)                 9         \n",
      "                                                                 \n",
      "=================================================================\n",
      "Total params: 4,081\n",
      "Trainable params: 4,081\n",
      "Non-trainable params: 0\n",
      "_________________________________________________________________\n"
     ]
    }
   ],
   "source": [
    "model.summary()"
   ]
  },
  {
   "attachments": {},
   "cell_type": "markdown",
   "metadata": {},
   "source": [
    "- 학습 및 평가"
   ]
  },
  {
   "cell_type": "code",
   "execution_count": 59,
   "metadata": {},
   "outputs": [
    {
     "name": "stdout",
     "output_type": "stream",
     "text": [
      "Epoch 1/100\n",
      "313/313 [==============================] - 6s 18ms/step - loss: 0.7017 - accuracy: 0.4972 - val_loss: 0.6996 - val_accuracy: 0.5048\n",
      "Epoch 2/100\n",
      "313/313 [==============================] - 5s 15ms/step - loss: 0.6970 - accuracy: 0.5040 - val_loss: 0.6967 - val_accuracy: 0.5122\n",
      "Epoch 3/100\n",
      "313/313 [==============================] - 5s 16ms/step - loss: 0.6938 - accuracy: 0.5133 - val_loss: 0.6946 - val_accuracy: 0.5146\n",
      "Epoch 4/100\n",
      "313/313 [==============================] - 5s 15ms/step - loss: 0.6912 - accuracy: 0.5240 - val_loss: 0.6929 - val_accuracy: 0.5186\n",
      "Epoch 5/100\n",
      "313/313 [==============================] - 5s 16ms/step - loss: 0.6889 - accuracy: 0.5367 - val_loss: 0.6913 - val_accuracy: 0.5258\n",
      "Epoch 6/100\n",
      "313/313 [==============================] - 5s 15ms/step - loss: 0.6868 - accuracy: 0.5465 - val_loss: 0.6898 - val_accuracy: 0.5350\n",
      "Epoch 7/100\n",
      "313/313 [==============================] - 5s 15ms/step - loss: 0.6848 - accuracy: 0.5556 - val_loss: 0.6883 - val_accuracy: 0.5400\n",
      "Epoch 8/100\n",
      "313/313 [==============================] - 5s 15ms/step - loss: 0.6827 - accuracy: 0.5634 - val_loss: 0.6867 - val_accuracy: 0.5482\n",
      "Epoch 9/100\n",
      "313/313 [==============================] - 5s 15ms/step - loss: 0.6804 - accuracy: 0.5722 - val_loss: 0.6850 - val_accuracy: 0.5536\n",
      "Epoch 10/100\n",
      "313/313 [==============================] - 5s 15ms/step - loss: 0.6776 - accuracy: 0.5806 - val_loss: 0.6826 - val_accuracy: 0.5608\n",
      "Epoch 11/100\n",
      "313/313 [==============================] - 5s 16ms/step - loss: 0.6740 - accuracy: 0.5937 - val_loss: 0.6791 - val_accuracy: 0.5730\n",
      "Epoch 12/100\n",
      "313/313 [==============================] - 5s 17ms/step - loss: 0.6684 - accuracy: 0.6029 - val_loss: 0.6695 - val_accuracy: 0.5918\n",
      "Epoch 13/100\n",
      "313/313 [==============================] - 5s 17ms/step - loss: 0.6403 - accuracy: 0.6536 - val_loss: 0.6336 - val_accuracy: 0.6530\n",
      "Epoch 14/100\n",
      "313/313 [==============================] - 5s 17ms/step - loss: 0.6137 - accuracy: 0.6830 - val_loss: 0.6199 - val_accuracy: 0.6746\n",
      "Epoch 15/100\n",
      "313/313 [==============================] - 5s 16ms/step - loss: 0.5991 - accuracy: 0.6978 - val_loss: 0.6063 - val_accuracy: 0.6836\n",
      "Epoch 16/100\n",
      "313/313 [==============================] - 5s 15ms/step - loss: 0.5864 - accuracy: 0.7062 - val_loss: 0.5952 - val_accuracy: 0.6930\n",
      "Epoch 17/100\n",
      "313/313 [==============================] - 5s 16ms/step - loss: 0.5741 - accuracy: 0.7181 - val_loss: 0.6029 - val_accuracy: 0.6848\n",
      "Epoch 18/100\n",
      "313/313 [==============================] - 5s 17ms/step - loss: 0.5621 - accuracy: 0.7270 - val_loss: 0.5745 - val_accuracy: 0.7152\n",
      "Epoch 19/100\n",
      "313/313 [==============================] - 5s 16ms/step - loss: 0.5528 - accuracy: 0.7332 - val_loss: 0.5636 - val_accuracy: 0.7200\n",
      "Epoch 20/100\n",
      "313/313 [==============================] - 5s 16ms/step - loss: 0.5414 - accuracy: 0.7425 - val_loss: 0.5572 - val_accuracy: 0.7234\n",
      "Epoch 21/100\n",
      "313/313 [==============================] - 5s 16ms/step - loss: 0.5325 - accuracy: 0.7477 - val_loss: 0.5471 - val_accuracy: 0.7312\n",
      "Epoch 22/100\n",
      "313/313 [==============================] - 5s 16ms/step - loss: 0.5243 - accuracy: 0.7526 - val_loss: 0.5413 - val_accuracy: 0.7358\n",
      "Epoch 23/100\n",
      "313/313 [==============================] - 5s 17ms/step - loss: 0.5163 - accuracy: 0.7575 - val_loss: 0.5347 - val_accuracy: 0.7358\n",
      "Epoch 24/100\n",
      "313/313 [==============================] - 5s 16ms/step - loss: 0.5085 - accuracy: 0.7632 - val_loss: 0.5282 - val_accuracy: 0.7460\n",
      "Epoch 25/100\n",
      "313/313 [==============================] - 5s 16ms/step - loss: 0.5027 - accuracy: 0.7657 - val_loss: 0.5262 - val_accuracy: 0.7478\n",
      "Epoch 26/100\n",
      "313/313 [==============================] - 5s 16ms/step - loss: 0.4950 - accuracy: 0.7719 - val_loss: 0.5167 - val_accuracy: 0.7546\n",
      "Epoch 27/100\n",
      "313/313 [==============================] - 5s 16ms/step - loss: 0.4879 - accuracy: 0.7771 - val_loss: 0.5121 - val_accuracy: 0.7580\n",
      "Epoch 28/100\n",
      "313/313 [==============================] - 5s 16ms/step - loss: 0.4820 - accuracy: 0.7804 - val_loss: 0.5057 - val_accuracy: 0.7606\n",
      "Epoch 29/100\n",
      "313/313 [==============================] - 5s 16ms/step - loss: 0.4763 - accuracy: 0.7851 - val_loss: 0.5080 - val_accuracy: 0.7594\n",
      "Epoch 30/100\n",
      "313/313 [==============================] - 5s 16ms/step - loss: 0.4702 - accuracy: 0.7881 - val_loss: 0.4955 - val_accuracy: 0.7660\n",
      "Epoch 31/100\n",
      "313/313 [==============================] - 5s 16ms/step - loss: 0.4661 - accuracy: 0.7900 - val_loss: 0.4928 - val_accuracy: 0.7668\n",
      "Epoch 32/100\n",
      "313/313 [==============================] - 5s 16ms/step - loss: 0.4618 - accuracy: 0.7923 - val_loss: 0.4893 - val_accuracy: 0.7702\n",
      "Epoch 33/100\n",
      "313/313 [==============================] - 5s 16ms/step - loss: 0.4576 - accuracy: 0.7951 - val_loss: 0.4855 - val_accuracy: 0.7716\n",
      "Epoch 34/100\n",
      "313/313 [==============================] - 5s 16ms/step - loss: 0.4541 - accuracy: 0.7977 - val_loss: 0.4818 - val_accuracy: 0.7732\n",
      "Epoch 35/100\n",
      "313/313 [==============================] - 5s 16ms/step - loss: 0.4504 - accuracy: 0.7978 - val_loss: 0.4811 - val_accuracy: 0.7788\n",
      "Epoch 36/100\n",
      "313/313 [==============================] - 5s 17ms/step - loss: 0.4468 - accuracy: 0.8030 - val_loss: 0.4770 - val_accuracy: 0.7752\n",
      "Epoch 37/100\n",
      "313/313 [==============================] - 5s 17ms/step - loss: 0.4441 - accuracy: 0.8029 - val_loss: 0.4753 - val_accuracy: 0.7800\n",
      "Epoch 38/100\n",
      "313/313 [==============================] - 5s 17ms/step - loss: 0.4405 - accuracy: 0.8060 - val_loss: 0.4753 - val_accuracy: 0.7784\n",
      "Epoch 39/100\n",
      "313/313 [==============================] - 6s 18ms/step - loss: 0.4379 - accuracy: 0.8069 - val_loss: 0.4717 - val_accuracy: 0.7806\n",
      "Epoch 40/100\n",
      "313/313 [==============================] - 5s 17ms/step - loss: 0.4351 - accuracy: 0.8085 - val_loss: 0.4841 - val_accuracy: 0.7708\n",
      "Epoch 41/100\n",
      "313/313 [==============================] - 5s 16ms/step - loss: 0.4322 - accuracy: 0.8103 - val_loss: 0.4663 - val_accuracy: 0.7822\n",
      "Epoch 42/100\n",
      "313/313 [==============================] - 5s 17ms/step - loss: 0.4291 - accuracy: 0.8110 - val_loss: 0.4649 - val_accuracy: 0.7832\n",
      "Epoch 43/100\n",
      "313/313 [==============================] - 5s 16ms/step - loss: 0.4270 - accuracy: 0.8133 - val_loss: 0.4637 - val_accuracy: 0.7838\n",
      "Epoch 44/100\n",
      "313/313 [==============================] - 5s 16ms/step - loss: 0.4247 - accuracy: 0.8133 - val_loss: 0.4626 - val_accuracy: 0.7838\n",
      "Epoch 45/100\n",
      "313/313 [==============================] - 5s 16ms/step - loss: 0.4224 - accuracy: 0.8166 - val_loss: 0.4610 - val_accuracy: 0.7892\n",
      "Epoch 46/100\n",
      "313/313 [==============================] - 5s 16ms/step - loss: 0.4199 - accuracy: 0.8155 - val_loss: 0.4692 - val_accuracy: 0.7810\n",
      "Epoch 47/100\n",
      "313/313 [==============================] - 5s 16ms/step - loss: 0.4178 - accuracy: 0.8176 - val_loss: 0.4597 - val_accuracy: 0.7876\n",
      "Epoch 48/100\n",
      "313/313 [==============================] - 5s 16ms/step - loss: 0.4164 - accuracy: 0.8188 - val_loss: 0.4590 - val_accuracy: 0.7846\n",
      "Epoch 49/100\n",
      "313/313 [==============================] - 5s 16ms/step - loss: 0.4145 - accuracy: 0.8195 - val_loss: 0.4575 - val_accuracy: 0.7894\n",
      "Epoch 50/100\n",
      "313/313 [==============================] - 5s 16ms/step - loss: 0.4131 - accuracy: 0.8192 - val_loss: 0.4572 - val_accuracy: 0.7906\n",
      "Epoch 51/100\n",
      "313/313 [==============================] - 5s 16ms/step - loss: 0.4110 - accuracy: 0.8207 - val_loss: 0.4655 - val_accuracy: 0.7820\n",
      "Epoch 52/100\n",
      "313/313 [==============================] - 5s 17ms/step - loss: 0.4094 - accuracy: 0.8217 - val_loss: 0.4588 - val_accuracy: 0.7868\n",
      "Epoch 53/100\n",
      "313/313 [==============================] - 5s 16ms/step - loss: 0.4084 - accuracy: 0.8210 - val_loss: 0.4552 - val_accuracy: 0.7934\n",
      "Epoch 54/100\n",
      "313/313 [==============================] - 5s 16ms/step - loss: 0.4070 - accuracy: 0.8230 - val_loss: 0.4566 - val_accuracy: 0.7906\n",
      "Epoch 55/100\n",
      "313/313 [==============================] - 5s 16ms/step - loss: 0.4064 - accuracy: 0.8220 - val_loss: 0.4543 - val_accuracy: 0.7908\n",
      "Epoch 56/100\n",
      "313/313 [==============================] - 5s 16ms/step - loss: 0.4047 - accuracy: 0.8237 - val_loss: 0.4557 - val_accuracy: 0.7876\n",
      "Epoch 57/100\n",
      "313/313 [==============================] - 5s 16ms/step - loss: 0.4034 - accuracy: 0.8241 - val_loss: 0.4540 - val_accuracy: 0.7910\n",
      "Epoch 58/100\n",
      "313/313 [==============================] - 6s 18ms/step - loss: 0.4025 - accuracy: 0.8260 - val_loss: 0.4538 - val_accuracy: 0.7918\n",
      "Epoch 59/100\n",
      "313/313 [==============================] - 5s 16ms/step - loss: 0.4014 - accuracy: 0.8262 - val_loss: 0.4535 - val_accuracy: 0.7910\n",
      "Epoch 60/100\n",
      "313/313 [==============================] - 6s 18ms/step - loss: 0.3997 - accuracy: 0.8269 - val_loss: 0.4546 - val_accuracy: 0.7906\n",
      "Epoch 61/100\n",
      "313/313 [==============================] - 5s 16ms/step - loss: 0.3992 - accuracy: 0.8258 - val_loss: 0.4574 - val_accuracy: 0.7868\n",
      "Epoch 62/100\n",
      "313/313 [==============================] - 5s 16ms/step - loss: 0.3984 - accuracy: 0.8266 - val_loss: 0.4533 - val_accuracy: 0.7918\n",
      "Epoch 63/100\n",
      "313/313 [==============================] - 5s 16ms/step - loss: 0.3975 - accuracy: 0.8275 - val_loss: 0.4534 - val_accuracy: 0.7916\n",
      "Epoch 64/100\n",
      "313/313 [==============================] - 5s 16ms/step - loss: 0.3967 - accuracy: 0.8270 - val_loss: 0.4534 - val_accuracy: 0.7916\n",
      "Epoch 65/100\n",
      "313/313 [==============================] - 5s 16ms/step - loss: 0.3960 - accuracy: 0.8281 - val_loss: 0.4541 - val_accuracy: 0.7926\n"
     ]
    },
    {
     "data": {
      "image/png": "[encoded data removed]",
      "text/plain": [
       "<Figure size 640x480 with 1 Axes>"
      ]
     },
     "metadata": {},
     "output_type": "display_data"
    }
   ],
   "source": [
    "rmsprop = keras.optimizers.RMSprop(learning_rate=1e-4)\n",
    "model.compile(optimizer=rmsprop, loss='binary_crossentropy', metrics=['accuracy'])\n",
    "\n",
    "checkpoint_cb = keras.callbacks.ModelCheckpoint('best-simplernn-model.h5', save_best_only=True)\n",
    "early_stopping_cb = keras.callbacks.EarlyStopping(patience=3, restore_best_weights=True)\n",
    "\n",
    "history = model.fit(train_oh, train_target, epochs=100, batch_size=64,\n",
    "                    validation_data=(val_oh, val_target), callbacks=[checkpoint_cb, early_stopping_cb])\n",
    "\n",
    "plt.plot(history.history['loss'])\n",
    "plt.plot(history.history['val_loss'])\n",
    "plt.xlabel('epoch')\n",
    "plt.ylabel('loss')\n",
    "plt.legend(['train', 'val'])\n",
    "plt.show()"
   ]
  },
  {
   "attachments": {},
   "cell_type": "markdown",
   "metadata": {},
   "source": [
    "# 워드 임베딩 (Word Embedding)\n",
    "\n",
    "원-핫 인코딩의 비효율적인 측면을 보완하기 위해 별도로 학습할 수 있는 방법"
   ]
  },
  {
   "cell_type": "code",
   "execution_count": 61,
   "metadata": {},
   "outputs": [
    {
     "name": "stdout",
     "output_type": "stream",
     "text": [
      "Model: \"sequential_13\"\n",
      "_________________________________________________________________\n",
      " Layer (type)                Output Shape              Param #   \n",
      "=================================================================\n",
      " embedding_5 (Embedding)     (None, 100, 16)           8000      \n",
      "                                                                 \n",
      " simple_rnn_11 (SimpleRNN)   (None, 8)                 200       \n",
      "                                                                 \n",
      " dense_12 (Dense)            (None, 1)                 9         \n",
      "                                                                 \n",
      "=================================================================\n",
      "Total params: 8,209\n",
      "Trainable params: 8,209\n",
      "Non-trainable params: 0\n",
      "_________________________________________________________________\n",
      "Epoch 1/100\n",
      "WARNING:tensorflow:Model was constructed with shape (None, 100) for input KerasTensor(type_spec=TensorSpec(shape=(None, 100), dtype=tf.float32, name='embedding_5_input'), name='embedding_5_input', description=\"created by layer 'embedding_5_input'\"), but it was called on an input with incompatible shape (None, 100, 500).\n"
     ]
    },
    {
     "ename": "ValueError",
     "evalue": "in user code:\n\n    File \"c:\\Python310\\lib\\site-packages\\keras\\engine\\training.py\", line 1249, in train_function  *\n        return step_function(self, iterator)\n    File \"c:\\Python310\\lib\\site-packages\\keras\\engine\\training.py\", line 1233, in step_function  **\n        outputs = model.distribute_strategy.run(run_step, args=(data,))\n    File \"c:\\Python310\\lib\\site-packages\\keras\\engine\\training.py\", line 1222, in run_step  **\n        outputs = model.train_step(data)\n    File \"c:\\Python310\\lib\\site-packages\\keras\\engine\\training.py\", line 1023, in train_step\n        y_pred = self(x, training=True)\n    File \"c:\\Python310\\lib\\site-packages\\keras\\utils\\traceback_utils.py\", line 70, in error_handler\n        raise e.with_traceback(filtered_tb) from None\n    File \"c:\\Python310\\lib\\site-packages\\keras\\engine\\input_spec.py\", line 232, in assert_input_compatibility\n        raise ValueError(\n\n    ValueError: Exception encountered when calling layer 'sequential_13' (type Sequential).\n    \n    Input 0 of layer \"simple_rnn_11\" is incompatible with the layer: expected ndim=3, found ndim=4. Full shape received: (None, 100, 500, 16)\n    \n    Call arguments received by layer 'sequential_13' (type Sequential):\n      • inputs=tf.Tensor(shape=(None, 100, 500), dtype=float32)\n      • training=True\n      • mask=None\n",
     "output_type": "error",
     "traceback": [
      "\u001b[1;31m---------------------------------------------------------------------------\u001b[0m",
      "\u001b[1;31mValueError\u001b[0m                                Traceback (most recent call last)",
      "Cell \u001b[1;32mIn[61], line 12\u001b[0m\n\u001b[0;32m      9\u001b[0m checkpoint_cb \u001b[39m=\u001b[39m keras\u001b[39m.\u001b[39mcallbacks\u001b[39m.\u001b[39mModelCheckpoint(\u001b[39m'\u001b[39m\u001b[39mbest-simplernn-model2.h5\u001b[39m\u001b[39m'\u001b[39m, save_best_only\u001b[39m=\u001b[39m\u001b[39mTrue\u001b[39;00m)\n\u001b[0;32m     10\u001b[0m model2\u001b[39m.\u001b[39mcompile(optimizer\u001b[39m=\u001b[39mrmsprop, loss\u001b[39m=\u001b[39m\u001b[39m'\u001b[39m\u001b[39mbinary_crossentropy\u001b[39m\u001b[39m'\u001b[39m, metrics\u001b[39m=\u001b[39m[\u001b[39m'\u001b[39m\u001b[39maccuracy\u001b[39m\u001b[39m'\u001b[39m])\n\u001b[1;32m---> 12\u001b[0m history2 \u001b[39m=\u001b[39m model2\u001b[39m.\u001b[39;49mfit(train_oh, train_target, epochs\u001b[39m=\u001b[39;49m\u001b[39m100\u001b[39;49m, batch_size\u001b[39m=\u001b[39;49m\u001b[39m64\u001b[39;49m,\n\u001b[0;32m     13\u001b[0m                     validation_data\u001b[39m=\u001b[39;49m(val_oh, val_target), callbacks\u001b[39m=\u001b[39;49m[checkpoint_cb, early_stopping_cb])\n\u001b[0;32m     15\u001b[0m plt\u001b[39m.\u001b[39mplot(history\u001b[39m.\u001b[39mhistory[\u001b[39m'\u001b[39m\u001b[39mloss\u001b[39m\u001b[39m'\u001b[39m])\n\u001b[0;32m     16\u001b[0m plt\u001b[39m.\u001b[39mplot(history\u001b[39m.\u001b[39mhistory[\u001b[39m'\u001b[39m\u001b[39mval_loss\u001b[39m\u001b[39m'\u001b[39m])\n",
      "File \u001b[1;32mc:\\Python310\\lib\\site-packages\\keras\\utils\\traceback_utils.py:70\u001b[0m, in \u001b[0;36mfilter_traceback.<locals>.error_handler\u001b[1;34m(*args, **kwargs)\u001b[0m\n\u001b[0;32m     67\u001b[0m     filtered_tb \u001b[39m=\u001b[39m _process_traceback_frames(e\u001b[39m.\u001b[39m__traceback__)\n\u001b[0;32m     68\u001b[0m     \u001b[39m# To get the full stack trace, call:\u001b[39;00m\n\u001b[0;32m     69\u001b[0m     \u001b[39m# `tf.debugging.disable_traceback_filtering()`\u001b[39;00m\n\u001b[1;32m---> 70\u001b[0m     \u001b[39mraise\u001b[39;00m e\u001b[39m.\u001b[39mwith_traceback(filtered_tb) \u001b[39mfrom\u001b[39;00m \u001b[39mNone\u001b[39m\n\u001b[0;32m     71\u001b[0m \u001b[39mfinally\u001b[39;00m:\n\u001b[0;32m     72\u001b[0m     \u001b[39mdel\u001b[39;00m filtered_tb\n",
      "File \u001b[1;32m~\\AppData\\Local\\Temp\\__autograph_generated_fileyz11y6jb.py:15\u001b[0m, in \u001b[0;36mouter_factory.<locals>.inner_factory.<locals>.tf__train_function\u001b[1;34m(iterator)\u001b[0m\n\u001b[0;32m     13\u001b[0m \u001b[39mtry\u001b[39;00m:\n\u001b[0;32m     14\u001b[0m     do_return \u001b[39m=\u001b[39m \u001b[39mTrue\u001b[39;00m\n\u001b[1;32m---> 15\u001b[0m     retval_ \u001b[39m=\u001b[39m ag__\u001b[39m.\u001b[39mconverted_call(ag__\u001b[39m.\u001b[39mld(step_function), (ag__\u001b[39m.\u001b[39mld(\u001b[39mself\u001b[39m), ag__\u001b[39m.\u001b[39mld(iterator)), \u001b[39mNone\u001b[39;00m, fscope)\n\u001b[0;32m     16\u001b[0m \u001b[39mexcept\u001b[39;00m:\n\u001b[0;32m     17\u001b[0m     do_return \u001b[39m=\u001b[39m \u001b[39mFalse\u001b[39;00m\n",
      "\u001b[1;31mValueError\u001b[0m: in user code:\n\n    File \"c:\\Python310\\lib\\site-packages\\keras\\engine\\training.py\", line 1249, in train_function  *\n        return step_function(self, iterator)\n    File \"c:\\Python310\\lib\\site-packages\\keras\\engine\\training.py\", line 1233, in step_function  **\n        outputs = model.distribute_strategy.run(run_step, args=(data,))\n    File \"c:\\Python310\\lib\\site-packages\\keras\\engine\\training.py\", line 1222, in run_step  **\n        outputs = model.train_step(data)\n    File \"c:\\Python310\\lib\\site-packages\\keras\\engine\\training.py\", line 1023, in train_step\n        y_pred = self(x, training=True)\n    File \"c:\\Python310\\lib\\site-packages\\keras\\utils\\traceback_utils.py\", line 70, in error_handler\n        raise e.with_traceback(filtered_tb) from None\n    File \"c:\\Python310\\lib\\site-packages\\keras\\engine\\input_spec.py\", line 232, in assert_input_compatibility\n        raise ValueError(\n\n    ValueError: Exception encountered when calling layer 'sequential_13' (type Sequential).\n    \n    Input 0 of layer \"simple_rnn_11\" is incompatible with the layer: expected ndim=3, found ndim=4. Full shape received: (None, 100, 500, 16)\n    \n    Call arguments received by layer 'sequential_13' (type Sequential):\n      • inputs=tf.Tensor(shape=(None, 100, 500), dtype=float32)\n      • training=True\n      • mask=None\n"
     ]
    }
   ],
   "source": [
    "model2 = keras.Sequential()\n",
    "\n",
    "model2.add(keras.layers.Embedding(500, 16, input_length=100)) # 어휘 사전 500, 벡터 크기 16\n",
    "model2.add(keras.layers.SimpleRNN(8)) # 16*8 + 8*8 + 8 = 200 (벡터 크기가 16으로 줄었다.)\n",
    "model2.add(keras.layers.Dense(1, activation='sigmoid'))\n",
    "\n",
    "model2.summary()\n",
    "\n",
    "checkpoint_cb = keras.callbacks.ModelCheckpoint('best-simplernn-model2.h5', save_best_only=True)\n",
    "model2.compile(optimizer=rmsprop, loss='binary_crossentropy', metrics=['accuracy'])\n",
    "\n",
    "history2 = model2.fit(train_seq, train_target, epochs=100, batch_size=64,\n",
    "                    validation_data=(val_seq, val_target), callbacks=[checkpoint_cb, early_stopping_cb])\n",
    "\n",
    "plt.plot(history.history['loss'])\n",
    "plt.plot(history.history['val_loss'])\n",
    "plt.xlabel('epoch')\n",
    "plt.ylabel('loss')\n",
    "plt.legend(['train', 'val'])\n",
    "plt.show()"
   ]
  },
  {
   "attachments": {},
   "cell_type": "markdown",
   "metadata": {},
   "source": [
    "# Long Short Term Memory (LSTM)\n",
    "\n",
    "기본 RNN은 시퀀스 길이가 길 경우 성능이 저하됨. -> 타임스텝이 길어지면 이전 입력 정보가 사라짐\n",
    "\n",
    "값을 계속 유지한다."
   ]
  },
  {
   "cell_type": "code",
   "execution_count": null,
   "metadata": {},
   "outputs": [
    {
     "name": "stdout",
     "output_type": "stream",
     "text": [
      "Model: \"sequential_10\"\n",
      "_________________________________________________________________\n",
      " Layer (type)                Output Shape              Param #   \n",
      "=================================================================\n",
      " embedding_3 (Embedding)     (None, 100, 16)           8000      \n",
      "                                                                 \n",
      " lstm_1 (LSTM)               (None, 8)                 800       \n",
      "                                                                 \n",
      " dense_9 (Dense)             (None, 1)                 9         \n",
      "                                                                 \n",
      "=================================================================\n",
      "Total params: 8,809\n",
      "Trainable params: 8,809\n",
      "Non-trainable params: 0\n",
      "_________________________________________________________________\n"
     ]
    }
   ],
   "source": [
    "model3 = keras.Sequential()\n",
    "\n",
    "model3.add(keras.layers.Embedding(500, 16, input_length=100))\n",
    "model3.add(keras.layers.LSTM(8, dropout=0.3)) # LSTM에서 dropout을 사용하는 방법\n",
    "model3.add(keras.layers.Dense(1, activation='sigmoid'))\n",
    "\n",
    "model3.summary()\n",
    "\n",
    "checkpoint_cb = keras.callbacks.ModelCheckpoint('best-simplernn-model3.h5', save_best_only=True)\n",
    "model3.compile(optimizer=rmsprop, loss='binary_crossentropy', metrics=['accuracy'])\n",
    "\n",
    "history = model3.fit(train_oh, train_target, epochs=100, batch_size=64,\n",
    "                    validation_data=(val_oh, val_target), callbacks=[checkpoint_cb, early_stopping_cb])\n",
    "\n",
    "plt.plot(history.history['loss'])\n",
    "plt.plot(history.history['val_loss'])\n",
    "plt.xlabel('epoch')\n",
    "plt.ylabel('loss')\n",
    "plt.legend(['train', 'val'])\n",
    "plt.show()"
   ]
  },
  {
   "attachments": {},
   "cell_type": "markdown",
   "metadata": {},
   "source": [
    "- 2개 층을 연결하는 방법"
   ]
  },
  {
   "cell_type": "code",
   "execution_count": null,
   "metadata": {},
   "outputs": [],
   "source": [
    "model4 = keras.Sequential()\n",
    "\n",
    "model4.add(keras.layers.Embedding(500, 16, input_length=100))\n",
    "model4.add(keras.layers.LSTM(8, dropout=0.3, return_sequences=True)) # 2개 층 연결\n",
    "model4.add(keras.layers.LSTM(8, dropout=0.3))\n",
    "model4.add(keras.layers.Dense(1, activation='sigmoid'))\n",
    "\n",
    "model3.summary()\n",
    "\n",
    "checkpoint_cb = keras.callbacks.ModelCheckpoint('best-simplernn-model4.h5', save_best_only=True)\n",
    "model4.compile(optimizer=rmsprop, loss='binary_crossentropy', metrics=['accuracy'])\n",
    "\n",
    "history = model4.fit(train_oh, train_target, epochs=100, batch_size=64,\n",
    "                    validation_data=(val_oh, val_target), callbacks=[checkpoint_cb, early_stopping_cb])"
   ]
  }
 ],
 "metadata": {
  "kernelspec": {
   "display_name": "Python 3",
   "language": "python",
   "name": "python3"
  },
  "language_info": {
   "codemirror_mode": {
    "name": "ipython",
    "version": 3
   },
   "file_extension": ".py",
   "mimetype": "text/x-python",
   "name": "python",
   "nbconvert_exporter": "python",
   "pygments_lexer": "ipython3",
   "version": "3.10.4"
  },
  "orig_nbformat": 4,
  "vscode": {
   "interpreter": {
    "hash": "369f2c481f4da34e4445cda3fffd2e751bd1c4d706f27375911949ba6bb62e1c"
   }
  }
 },
 "nbformat": 4,
 "nbformat_minor": 2
}
