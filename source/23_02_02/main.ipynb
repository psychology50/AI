{
 "cells": [
  {
   "attachments": {},
   "cell_type": "markdown",
   "metadata": {},
   "source": [
    "# 데이터 증대"
   ]
  },
  {
   "attachments": {},
   "cell_type": "markdown",
   "metadata": {},
   "source": [
    "- 데이터 준비"
   ]
  },
  {
   "cell_type": "code",
   "execution_count": 11,
   "metadata": {},
   "outputs": [],
   "source": [
    "from tensorflow.keras.preprocessing.image import ImageDataGenerator\n",
    "from tensorflow import keras"
   ]
  },
  {
   "cell_type": "code",
   "execution_count": 12,
   "metadata": {},
   "outputs": [],
   "source": [
    "# 설정값만 지정하고 이미지를 적용한다.\n",
    "train_datagen = ImageDataGenerator(rescale = 1./255, shear_range = 0.2, zoom_range = 0.2, horizontal_flip = True)\n",
    "test_datagen = ImageDataGenerator(rescale = 1./255) # 테스트 데이터의 경우 데이터 증대가 필요 없다.\n",
    "# rescale = 0~255 값을 0~1로 정규화\n",
    "# shear, zoom, horizontal_flip : 이미지 회전 및 확대, 축소, 뒤집기"
   ]
  },
  {
   "attachments": {},
   "cell_type": "markdown",
   "metadata": {},
   "source": [
    "- ImageDataGenerater와 directory Connect"
   ]
  },
  {
   "cell_type": "code",
   "execution_count": 13,
   "metadata": {},
   "outputs": [
    {
     "name": "stdout",
     "output_type": "stream",
     "text": [
      "Found 2000 images belonging to 2 classes.\n",
      "Found 200 images belonging to 2 classes.\n"
     ]
    }
   ],
   "source": [
    "train_dir = \"./PetImages/train/\"\n",
    "test_dir = \"./PetImages/test/\"\n",
    "\n",
    "train_generator = train_datagen.flow_from_directory(\n",
    "    train_dir,\n",
    "    target_size=(128, 128),\n",
    "    batch_size = 20,\n",
    "    class_mode = 'binary'\n",
    ")\n",
    "\n",
    "test_generator = test_datagen.flow_from_directory(\n",
    "    test_dir,\n",
    "    target_size=(128, 128),\n",
    "    batch_size = 20,\n",
    "    class_mode = 'binary'\n",
    ")"
   ]
  },
  {
   "attachments": {},
   "cell_type": "markdown",
   "metadata": {},
   "source": [
    "- CNN 모델 구성"
   ]
  },
  {
   "cell_type": "code",
   "execution_count": 14,
   "metadata": {},
   "outputs": [],
   "source": [
    "model = keras.Sequential()\n",
    "\n",
    "model.add(keras.layers.Conv2D(32, (3,3), activation='relu', input_shape=(128,128,3)))\n",
    "model.add(keras.layers.MaxPooling2D(2,2))\n",
    "model.add(keras.layers.Conv2D(64, (3,3), activation='relu'))\n",
    "model.add(keras.layers.MaxPooling2D(2,2))\n",
    "\n",
    "model.add(keras.layers.Flatten())\n",
    "model.add(keras.layers.Dense(units=512, activation='relu'))\n",
    "model.add(keras.layers.Dense(units=1, activation='sigmoid'))\n",
    "\n",
    "model.compile(optimizer='adam', loss='binary_crossentropy', metrics=['accuracy'])"
   ]
  },
  {
   "attachments": {},
   "cell_type": "markdown",
   "metadata": {},
   "source": [
    "- 학습"
   ]
  },
  {
   "cell_type": "code",
   "execution_count": 15,
   "metadata": {},
   "outputs": [
    {
     "name": "stderr",
     "output_type": "stream",
     "text": [
      "C:\\Users\\qud12\\AppData\\Local\\Temp\\ipykernel_14996\\2399152833.py:1: UserWarning: `Model.fit_generator` is deprecated and will be removed in a future version. Please use `Model.fit`, which supports generators.\n",
      "  history = model.fit_generator(\n"
     ]
    },
    {
     "name": "stdout",
     "output_type": "stream",
     "text": [
      "Epoch 1/10\n",
      "100/100 [==============================] - 36s 344ms/step - loss: 0.9806 - accuracy: 0.5180 - val_loss: 0.6903 - val_accuracy: 0.5400\n",
      "Epoch 2/10\n",
      "100/100 [==============================] - 25s 245ms/step - loss: 0.6774 - accuracy: 0.5800 - val_loss: 0.6938 - val_accuracy: 0.5800\n",
      "Epoch 3/10\n",
      "100/100 [==============================] - 25s 254ms/step - loss: 0.6525 - accuracy: 0.6350 - val_loss: 0.7409 - val_accuracy: 0.6500\n",
      "Epoch 4/10\n",
      "100/100 [==============================] - 25s 250ms/step - loss: 0.6156 - accuracy: 0.6635 - val_loss: 0.7189 - val_accuracy: 0.6400\n",
      "Epoch 5/10\n",
      "100/100 [==============================] - 27s 267ms/step - loss: 0.5902 - accuracy: 0.6825 - val_loss: 0.7097 - val_accuracy: 0.6000\n",
      "Epoch 6/10\n",
      "100/100 [==============================] - 28s 276ms/step - loss: 0.5798 - accuracy: 0.7055 - val_loss: 0.5964 - val_accuracy: 0.7000\n",
      "Epoch 7/10\n",
      "100/100 [==============================] - 29s 284ms/step - loss: 0.5547 - accuracy: 0.7155 - val_loss: 0.6276 - val_accuracy: 0.6500\n",
      "Epoch 8/10\n",
      "100/100 [==============================] - 29s 294ms/step - loss: 0.5202 - accuracy: 0.7445 - val_loss: 0.6780 - val_accuracy: 0.6800\n",
      "Epoch 9/10\n",
      "100/100 [==============================] - 31s 308ms/step - loss: 0.4950 - accuracy: 0.7450 - val_loss: 0.5887 - val_accuracy: 0.7000\n",
      "Epoch 10/10\n",
      "100/100 [==============================] - 30s 300ms/step - loss: 0.4931 - accuracy: 0.7540 - val_loss: 0.5167 - val_accuracy: 0.7200\n"
     ]
    }
   ],
   "source": [
    "history = model.fit_generator(\n",
    "    train_generator, \n",
    "    steps_per_epoch = 100, # 한 번의 epoch에서 훈련에 사용할 batch 개수 (전체 샘플수 / batch_size로 설정하는 것이 일반적이다.) : 현재 batch_size=20\n",
    "    epochs=10,\n",
    "    validation_data=test_generator, \n",
    "    validation_steps = 5 # 한 번의 epoch가 끝날 때, 테스트에 사용되는 배치의 개수를 지정한다.\n",
    ")"
   ]
  }
 ],
 "metadata": {
  "kernelspec": {
   "display_name": "Python 3",
   "language": "python",
   "name": "python3"
  },
  "language_info": {
   "codemirror_mode": {
    "name": "ipython",
    "version": 3
   },
   "file_extension": ".py",
   "mimetype": "text/x-python",
   "name": "python",
   "nbconvert_exporter": "python",
   "pygments_lexer": "ipython3",
   "version": "3.10.4"
  },
  "orig_nbformat": 4,
  "vscode": {
   "interpreter": {
    "hash": "369f2c481f4da34e4445cda3fffd2e751bd1c4d706f27375911949ba6bb62e1c"
   }
  }
 },
 "nbformat": 4,
 "nbformat_minor": 2
}
