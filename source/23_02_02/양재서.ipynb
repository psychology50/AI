{
 "cells": [
  {
   "attachments": {},
   "cell_type": "markdown",
   "metadata": {},
   "source": [
    "# 평가 제출용: MNIST"
   ]
  },
  {
   "attachments": {},
   "cell_type": "markdown",
   "metadata": {},
   "source": [
    "- module import"
   ]
  },
  {
   "cell_type": "code",
   "execution_count": 18,
   "metadata": {},
   "outputs": [],
   "source": [
    "from tensorflow import keras\n",
    "from sklearn.model_selection import train_test_split\n",
    "import matplotlib.pyplot as plt"
   ]
  },
  {
   "attachments": {},
   "cell_type": "markdown",
   "metadata": {},
   "source": [
    "- create train/test set "
   ]
  },
  {
   "cell_type": "code",
   "execution_count": 19,
   "metadata": {},
   "outputs": [],
   "source": [
    "(train_input, train_target), (test_input, test_target) = keras.datasets.mnist.load_data()\n",
    "train_scaled = train_input.reshape(-1, 28, 28, 1) / 255.0\n",
    "train_scaled, val_scaled, train_target, val_target = train_test_split(train_scaled, train_target, test_size=0.2, random_state=42)"
   ]
  },
  {
   "attachments": {},
   "cell_type": "markdown",
   "metadata": {},
   "source": [
    "- create CNN model"
   ]
  },
  {
   "cell_type": "code",
   "execution_count": 20,
   "metadata": {},
   "outputs": [],
   "source": [
    "model = keras.Sequential(name='MNIST_data_set')\n",
    "\n",
    "model.add(keras.layers.Conv2D(32, kernel_size=3, activation='relu',\n",
    "          padding='same', input_shape=(28, 28, 1), name='32_Conv2D'))\n",
    "model.add(keras.layers.MaxPool2D(2))\n",
    "\n",
    "model.add(keras.layers.Conv2D(64, kernel_size=3, activation='relu',\n",
    "          padding='same', name='64_Conv2D'))\n",
    "model.add(keras.layers.MaxPool2D(2))\n",
    "\n",
    "model.add(keras.layers.Flatten())\n",
    "model.add(keras.layers.Dense(100, activation='relu', name='hidden'))\n",
    "model.add(keras.layers.Dropout(0.4))\n",
    "model.add(keras.layers.Dense(10, activation='softmax', name='output'))"
   ]
  },
  {
   "attachments": {},
   "cell_type": "markdown",
   "metadata": {},
   "source": [
    "- check model layer"
   ]
  },
  {
   "cell_type": "code",
   "execution_count": 21,
   "metadata": {},
   "outputs": [],
   "source": [
    "# keras.utils.plot_model(model)\n",
    "# keras.utils.plot_model(model, show_shapes=True, to_file='cnn-architecture.png', dpi=300)"
   ]
  },
  {
   "attachments": {},
   "cell_type": "markdown",
   "metadata": {},
   "source": [
    "- learning model"
   ]
  },
  {
   "cell_type": "code",
   "execution_count": 22,
   "metadata": {},
   "outputs": [
    {
     "name": "stdout",
     "output_type": "stream",
     "text": [
      "Epoch 1/100\n",
      "1500/1500 [==============================] - 23s 15ms/step - loss: 0.2156 - accuracy: 0.9342 - val_loss: 0.0587 - val_accuracy: 0.9824\n",
      "Epoch 2/100\n",
      "1500/1500 [==============================] - 24s 16ms/step - loss: 0.0756 - accuracy: 0.9767 - val_loss: 0.0433 - val_accuracy: 0.9872\n",
      "Epoch 3/100\n",
      "1500/1500 [==============================] - 25s 16ms/step - loss: 0.0583 - accuracy: 0.9825 - val_loss: 0.0398 - val_accuracy: 0.9877\n",
      "Epoch 4/100\n",
      "1500/1500 [==============================] - 23s 16ms/step - loss: 0.0443 - accuracy: 0.9863 - val_loss: 0.0374 - val_accuracy: 0.9894\n",
      "Epoch 5/100\n",
      "1500/1500 [==============================] - 23s 15ms/step - loss: 0.0395 - accuracy: 0.9874 - val_loss: 0.0421 - val_accuracy: 0.9886\n",
      "Epoch 6/100\n",
      "1500/1500 [==============================] - 23s 15ms/step - loss: 0.0326 - accuracy: 0.9897 - val_loss: 0.0361 - val_accuracy: 0.9906\n",
      "Epoch 7/100\n",
      "1500/1500 [==============================] - 24s 16ms/step - loss: 0.0279 - accuracy: 0.9912 - val_loss: 0.0319 - val_accuracy: 0.9912\n",
      "Epoch 8/100\n",
      "1500/1500 [==============================] - 24s 16ms/step - loss: 0.0245 - accuracy: 0.9924 - val_loss: 0.0368 - val_accuracy: 0.9897\n",
      "Epoch 9/100\n",
      "1500/1500 [==============================] - 23s 15ms/step - loss: 0.0231 - accuracy: 0.9928 - val_loss: 0.0349 - val_accuracy: 0.9902\n",
      "Epoch 10/100\n",
      "1500/1500 [==============================] - 24s 16ms/step - loss: 0.0198 - accuracy: 0.9937 - val_loss: 0.0333 - val_accuracy: 0.9920\n",
      "Epoch 11/100\n",
      "1500/1500 [==============================] - 24s 16ms/step - loss: 0.0188 - accuracy: 0.9941 - val_loss: 0.0326 - val_accuracy: 0.9918\n",
      "Epoch 12/100\n",
      "1500/1500 [==============================] - 23s 15ms/step - loss: 0.0148 - accuracy: 0.9952 - val_loss: 0.0354 - val_accuracy: 0.9921\n"
     ]
    },
    {
     "data": {
      "text/plain": [
       "<keras.callbacks.History at 0x1852b85e770>"
      ]
     },
     "execution_count": 22,
     "metadata": {},
     "output_type": "execute_result"
    }
   ],
   "source": [
    "# model compile\n",
    "model.compile(optimizer='adam', loss='sparse_categorical_crossentropy', metrics='accuracy')\n",
    "\n",
    "# create callback\n",
    "checkpoint_cb = keras.callbacks.ModelCheckpoint('best-mnist-model.h5', save_best_only=True)\n",
    "early_stopping_cb = keras.callbacks.EarlyStopping(patience=5, restore_best_weights=True)\n",
    "\n",
    "# fit model\n",
    "model.fit(train_scaled, train_target, epochs=100,\n",
    "          validation_data=(val_scaled, val_target),\n",
    "          callbacks=[checkpoint_cb, early_stopping_cb])"
   ]
  },
  {
   "attachments": {},
   "cell_type": "markdown",
   "metadata": {},
   "source": [
    "- evaluate model (about val_set) "
   ]
  },
  {
   "cell_type": "code",
   "execution_count": null,
   "metadata": {},
   "outputs": [],
   "source": [
    "model.evaluate(val_scaled, val_target)"
   ]
  },
  {
   "attachments": {},
   "cell_type": "markdown",
   "metadata": {},
   "source": [
    "- evaluate model (about test_set)"
   ]
  },
  {
   "cell_type": "code",
   "execution_count": 23,
   "metadata": {},
   "outputs": [
    {
     "name": "stdout",
     "output_type": "stream",
     "text": [
      "313/313 [==============================] - 2s 5ms/step - loss: 6.8482 - accuracy: 0.9898\n"
     ]
    },
    {
     "data": {
      "text/plain": [
       "[6.848159313201904, 0.989799976348877]"
      ]
     },
     "execution_count": 23,
     "metadata": {},
     "output_type": "execute_result"
    }
   ],
   "source": [
    "model.evaluate(test_input, test_target)"
   ]
  }
 ],
 "metadata": {
  "kernelspec": {
   "display_name": "Python 3",
   "language": "python",
   "name": "python3"
  },
  "language_info": {
   "codemirror_mode": {
    "name": "ipython",
    "version": 3
   },
   "file_extension": ".py",
   "mimetype": "text/x-python",
   "name": "python",
   "nbconvert_exporter": "python",
   "pygments_lexer": "ipython3",
   "version": "3.10.4"
  },
  "orig_nbformat": 4,
  "vscode": {
   "interpreter": {
    "hash": "369f2c481f4da34e4445cda3fffd2e751bd1c4d706f27375911949ba6bb62e1c"
   }
  }
 },
 "nbformat": 4,
 "nbformat_minor": 2
}
